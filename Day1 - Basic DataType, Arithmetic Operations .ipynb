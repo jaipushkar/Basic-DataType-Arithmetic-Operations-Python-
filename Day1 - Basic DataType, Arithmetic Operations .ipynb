{
 "cells": [
  {
   "cell_type": "markdown",
   "id": "7a52d818-323f-41cb-a241-522bd9020798",
   "metadata": {},
   "source": [
    "# NoteBook Shortcuts"
   ]
  },
  {
   "cell_type": "markdown",
   "id": "82801391-faf6-4ea1-a94b-43ae6f83b40b",
   "metadata": {},
   "source": [
    "+ esc + a - Create a new cell <font color = red> above </font> current cell\n",
    "+ esc + b - Create a new cell <font color = red> below </font> current cell\n",
    "+ esc + x - Delete a <font color = red> current </font> cell\n",
    "+ ecs + m - Convert a cell to <font color = red> Markdown </font>\n",
    "+ ecs + y - Convert a cell to <font color = red> Code </font> cell"
   ]
  },
  {
   "cell_type": "code",
   "execution_count": 5,
   "id": "a1a8c7af-821b-4cbd-8eb0-19b368745dfe",
   "metadata": {},
   "outputs": [
    {
     "name": "stdout",
     "output_type": "stream",
     "text": [
      "Hello World\n"
     ]
    }
   ],
   "source": [
    "# This is comment \n",
    "print('Hello World')"
   ]
  },
  {
   "cell_type": "markdown",
   "id": "f02782b3-cf13-468d-8063-c0e1e620a468",
   "metadata": {},
   "source": [
    "# DataTypes"
   ]
  },
  {
   "cell_type": "markdown",
   "id": "28d2510b-aaa9-43de-bcf8-435852698546",
   "metadata": {},
   "source": [
    "## Numeric DataType also known as Basic DataTypes\n",
    "\n",
    "### <font color = red> Integral </font>\n",
    "+ Int\n",
    "+ Boolean\n",
    "\n",
    "### <font color = red> Non-Integral </font>\n",
    "+ Float\n",
    "+ Complex"
   ]
  },
  {
   "cell_type": "markdown",
   "id": "a5b94774-11fc-4ed2-ae93-9b6f9c8a0c8d",
   "metadata": {},
   "source": [
    "## Collection also know as Data Structure\n",
    "\n",
    "### <font color = red> Sequence </font> \n",
    "#### Mutable \n",
    "+ List \n",
    "#### Immutable\n",
    "+ Tuple \n",
    "+ String\n",
    "\n",
    "### <font color = red> Mapping </font>\n",
    "+ Disctionary\n",
    "\n",
    "### <font color = red> Set </font>\n",
    "#### Mutable \n",
    "+ Set \n",
    "#### Immutable \n",
    "+ FrozenSet"
   ]
  },
  {
   "cell_type": "code",
   "execution_count": 6,
   "id": "ff5abea6-14aa-4eef-9cfb-e48f9e6d9a02",
   "metadata": {},
   "outputs": [
    {
     "data": {
      "text/plain": [
       "int"
      ]
     },
     "execution_count": 6,
     "metadata": {},
     "output_type": "execute_result"
    }
   ],
   "source": [
    "# Interger DataType \n",
    "\n",
    "x= 10 \n",
    "\n",
    "#Type of variable\n",
    "\n",
    "type(x)"
   ]
  },
  {
   "cell_type": "code",
   "execution_count": 8,
   "id": "b787b0e2-fdec-47d8-b4d7-73b6e6b05d7a",
   "metadata": {},
   "outputs": [
    {
     "data": {
      "text/plain": [
       "float"
      ]
     },
     "execution_count": 8,
     "metadata": {},
     "output_type": "execute_result"
    }
   ],
   "source": [
    "# Float DataType \n",
    "\n",
    "y=2.38\n",
    "type(y)"
   ]
  },
  {
   "cell_type": "code",
   "execution_count": 10,
   "id": "5cb41484-50d2-4bfb-95da-44a0a933f488",
   "metadata": {},
   "outputs": [
    {
     "data": {
      "text/plain": [
       "str"
      ]
     },
     "execution_count": 10,
     "metadata": {},
     "output_type": "execute_result"
    }
   ],
   "source": [
    "# String DataType\n",
    "\n",
    "mystr= 'Python'\n",
    "type(mystr)"
   ]
  },
  {
   "cell_type": "code",
   "execution_count": 12,
   "id": "31749076-0cfa-4df0-80e9-8c9682a75ef2",
   "metadata": {},
   "outputs": [
    {
     "data": {
      "text/plain": [
       "bool"
      ]
     },
     "execution_count": 12,
     "metadata": {},
     "output_type": "execute_result"
    }
   ],
   "source": [
    "# Boolean DataType\n",
    "\n",
    "a=True \n",
    "type(a)"
   ]
  },
  {
   "cell_type": "markdown",
   "id": "c67573fd-afe0-433d-8a40-95b7b2d37356",
   "metadata": {},
   "source": [
    "## Printing a variable"
   ]
  },
  {
   "cell_type": "code",
   "execution_count": 13,
   "id": "c3160499-17d3-4ad6-9800-1b4c9caa06a0",
   "metadata": {},
   "outputs": [
    {
     "name": "stdout",
     "output_type": "stream",
     "text": [
      "10\n"
     ]
    }
   ],
   "source": [
    "print(x)"
   ]
  },
  {
   "cell_type": "code",
   "execution_count": 14,
   "id": "a0fa9b97-f83d-402a-98ea-3e7c31a4dbf2",
   "metadata": {},
   "outputs": [
    {
     "data": {
      "text/plain": [
       "10"
      ]
     },
     "execution_count": 14,
     "metadata": {},
     "output_type": "execute_result"
    }
   ],
   "source": [
    "x"
   ]
  },
  {
   "cell_type": "code",
   "execution_count": 18,
   "id": "83877eb9-923e-4221-a499-247949d232a5",
   "metadata": {},
   "outputs": [
    {
     "name": "stdout",
     "output_type": "stream",
     "text": [
      "10\n"
     ]
    },
    {
     "data": {
      "text/plain": [
       "2.38"
      ]
     },
     "execution_count": 18,
     "metadata": {},
     "output_type": "execute_result"
    }
   ],
   "source": [
    "print(x)\n",
    "y"
   ]
  },
  {
   "cell_type": "code",
   "execution_count": 19,
   "id": "3ff05773-8003-4085-87ca-a5575a4b9bb8",
   "metadata": {},
   "outputs": [
    {
     "name": "stdout",
     "output_type": "stream",
     "text": [
      "My name is sam and I am 20 years old\n"
     ]
    }
   ],
   "source": [
    "age = 20 \n",
    "name = 'sam'\n",
    "\n",
    "#F(Format) - string\n",
    "\n",
    "print(f'My name is {name} and I am {age} years old')"
   ]
  },
  {
   "cell_type": "code",
   "execution_count": 21,
   "id": "e974ee36-1abd-43f7-a4d3-6e0c0dd1af14",
   "metadata": {},
   "outputs": [
    {
     "name": "stdout",
     "output_type": "stream",
     "text": [
      "The vaue of x is 25\n"
     ]
    }
   ],
   "source": [
    "x= 25\n",
    "print(f'The vaue of x is {x}')"
   ]
  },
  {
   "cell_type": "markdown",
   "id": "490b4ec7-d7a0-4905-9d2a-629efe893b80",
   "metadata": {},
   "source": [
    "### Rules for Variable Names  "
   ]
  },
  {
   "cell_type": "markdown",
   "id": "fe115dd7-f919-47fb-884d-e7c1aecf0f2b",
   "metadata": {},
   "source": [
    "+ Variable names can start whit char or _\n",
    "###### myVar, MyVar, _myVar\n",
    "\n",
    "+ It can be followed by any no. of chars, '_' or numbers "
   ]
  },
  {
   "cell_type": "markdown",
   "id": "657193f4-35bc-4f6b-8b72-7f4c7eb59656",
   "metadata": {},
   "source": [
    "### Static Typing "
   ]
  },
  {
   "cell_type": "markdown",
   "id": "086209c9-e4c6-4221-ae16-6a8b36d5a165",
   "metadata": {},
   "source": [
    "+ Variable is tied to a datatype throughout the program.\n",
    "###### int x\n",
    "###### float y"
   ]
  },
  {
   "cell_type": "markdown",
   "id": "b53eb8a0-b8bb-4957-ad19-643322aa5a04",
   "metadata": {},
   "source": [
    "### Dynamic Typing "
   ]
  },
  {
   "cell_type": "markdown",
   "id": "ae4d6bea-5b70-48d7-844b-3a59ff961d37",
   "metadata": {},
   "source": [
    "+ Python support <font color = red> dynamic typing </font>.\n",
    "+ Dynamic Typing is basically we dont declare the variable type in the program\n",
    "###### Example \n",
    "###### x= 10 \n",
    "###### type(x) -> int\n",
    "###### For same x \n",
    "###### x= 2.38\n",
    "###### type(x) -> float"
   ]
  },
  {
   "cell_type": "markdown",
   "id": "5f152c55-f5c7-486b-9b90-78e7b91180b1",
   "metadata": {},
   "source": [
    "#### Dynamic Typing in Python"
   ]
  },
  {
   "cell_type": "code",
   "execution_count": 26,
   "id": "61970c1b-53f7-4dc1-b637-95ae5869361b",
   "metadata": {},
   "outputs": [
    {
     "data": {
      "text/plain": [
       "int"
      ]
     },
     "execution_count": 26,
     "metadata": {},
     "output_type": "execute_result"
    }
   ],
   "source": [
    "x=10\n",
    "type(x)"
   ]
  },
  {
   "cell_type": "code",
   "execution_count": 27,
   "id": "2e4ca301-e970-40da-8064-c2feae73e73d",
   "metadata": {},
   "outputs": [
    {
     "data": {
      "text/plain": [
       "float"
      ]
     },
     "execution_count": 27,
     "metadata": {},
     "output_type": "execute_result"
    }
   ],
   "source": [
    "x = 2.38\n",
    "type(x)"
   ]
  },
  {
   "cell_type": "code",
   "execution_count": 28,
   "id": "4652f360-7356-495e-ae5d-3987f5891496",
   "metadata": {},
   "outputs": [
    {
     "data": {
      "text/plain": [
       "str"
      ]
     },
     "execution_count": 28,
     "metadata": {},
     "output_type": "execute_result"
    }
   ],
   "source": [
    "x='Sam'\n",
    "type(x)"
   ]
  },
  {
   "cell_type": "markdown",
   "id": "09d10ff1-65dd-4abc-b2fd-0e559ae5b01a",
   "metadata": {},
   "source": [
    "### Arithmetic Operation on Numeric Data Type"
   ]
  },
  {
   "cell_type": "code",
   "execution_count": 31,
   "id": "73e9d585-edce-4ea3-9887-b602578d9692",
   "metadata": {},
   "outputs": [
    {
     "data": {
      "text/plain": [
       "18"
      ]
     },
     "execution_count": 31,
     "metadata": {},
     "output_type": "execute_result"
    }
   ],
   "source": [
    "# Addition\n",
    "10 + 8"
   ]
  },
  {
   "cell_type": "code",
   "execution_count": 32,
   "id": "b66da492-afce-4c50-b8b5-32bc59178278",
   "metadata": {},
   "outputs": [
    {
     "name": "stdout",
     "output_type": "stream",
     "text": [
      "18\n"
     ]
    }
   ],
   "source": [
    "x=10\n",
    "y=8\n",
    "print(x+y)"
   ]
  },
  {
   "cell_type": "code",
   "execution_count": 33,
   "id": "a73a046b-c5cd-4768-b2d5-99bb0802477d",
   "metadata": {},
   "outputs": [
    {
     "data": {
      "text/plain": [
       "2"
      ]
     },
     "execution_count": 33,
     "metadata": {},
     "output_type": "execute_result"
    }
   ],
   "source": [
    "# Substraction\n",
    "x - y"
   ]
  },
  {
   "cell_type": "code",
   "execution_count": 34,
   "id": "3cdb3706-1294-4198-b0fc-7c329ad0aad4",
   "metadata": {},
   "outputs": [
    {
     "data": {
      "text/plain": [
       "2"
      ]
     },
     "execution_count": 34,
     "metadata": {},
     "output_type": "execute_result"
    }
   ],
   "source": [
    "res=x-y\n",
    "res"
   ]
  },
  {
   "cell_type": "code",
   "execution_count": 35,
   "id": "83bcefc2-1cdf-48f5-9f45-602096b5a560",
   "metadata": {},
   "outputs": [
    {
     "data": {
      "text/plain": [
       "80"
      ]
     },
     "execution_count": 35,
     "metadata": {},
     "output_type": "execute_result"
    }
   ],
   "source": [
    "# Multiplication \n",
    "x*y"
   ]
  },
  {
   "cell_type": "code",
   "execution_count": 36,
   "id": "0a50957d-327c-4122-b2eb-06c73b02dc18",
   "metadata": {},
   "outputs": [
    {
     "data": {
      "text/plain": [
       "1.25"
      ]
     },
     "execution_count": 36,
     "metadata": {},
     "output_type": "execute_result"
    }
   ],
   "source": [
    "# Division \n",
    "x/y"
   ]
  },
  {
   "cell_type": "code",
   "execution_count": 39,
   "id": "b7c6cb92-132b-4a4d-beb2-84cd55042218",
   "metadata": {},
   "outputs": [
    {
     "data": {
      "text/plain": [
       "2"
      ]
     },
     "execution_count": 39,
     "metadata": {},
     "output_type": "execute_result"
    }
   ],
   "source": [
    "# Modula Division -- Give the Reminder\n",
    "x % y"
   ]
  },
  {
   "cell_type": "code",
   "execution_count": 40,
   "id": "c8e44373-5325-404e-8003-9467c97f41af",
   "metadata": {},
   "outputs": [
    {
     "data": {
      "text/plain": [
       "1"
      ]
     },
     "execution_count": 40,
     "metadata": {},
     "output_type": "execute_result"
    }
   ],
   "source": [
    "# Floor Division -- Gives the smallest Integer \n",
    "x // y"
   ]
  },
  {
   "cell_type": "code",
   "execution_count": 41,
   "id": "c88d2a61-4a9b-4f4e-a5f5-deabe7ba46ae",
   "metadata": {},
   "outputs": [
    {
     "data": {
      "text/plain": [
       "100"
      ]
     },
     "execution_count": 41,
     "metadata": {},
     "output_type": "execute_result"
    }
   ],
   "source": [
    "# Power -- Square  \n",
    "x ** 2"
   ]
  },
  {
   "cell_type": "markdown",
   "id": "6abf56de-24db-4d74-8c82-1796286007cb",
   "metadata": {},
   "source": [
    "### Boolean Operations\n",
    "###### And \n",
    "###### Or\n",
    "###### Not"
   ]
  },
  {
   "cell_type": "code",
   "execution_count": 42,
   "id": "dd175624-bcfc-4475-a2cc-6eda7bec720d",
   "metadata": {},
   "outputs": [
    {
     "data": {
      "text/plain": [
       "True"
      ]
     },
     "execution_count": 42,
     "metadata": {},
     "output_type": "execute_result"
    }
   ],
   "source": [
    "True and True "
   ]
  },
  {
   "cell_type": "code",
   "execution_count": 43,
   "id": "3f6d3b36-315a-4457-be0e-8c6c6fa409ad",
   "metadata": {},
   "outputs": [
    {
     "data": {
      "text/plain": [
       "False"
      ]
     },
     "execution_count": 43,
     "metadata": {},
     "output_type": "execute_result"
    }
   ],
   "source": [
    "True and False"
   ]
  },
  {
   "cell_type": "code",
   "execution_count": 44,
   "id": "701faa68-8ae6-448c-af93-e3b8256729e7",
   "metadata": {},
   "outputs": [
    {
     "data": {
      "text/plain": [
       "True"
      ]
     },
     "execution_count": 44,
     "metadata": {},
     "output_type": "execute_result"
    }
   ],
   "source": [
    "True or False"
   ]
  },
  {
   "cell_type": "code",
   "execution_count": 45,
   "id": "1f5e0433-0e0a-42c8-aa59-0210239e3597",
   "metadata": {},
   "outputs": [
    {
     "data": {
      "text/plain": [
       "False"
      ]
     },
     "execution_count": 45,
     "metadata": {},
     "output_type": "execute_result"
    }
   ],
   "source": [
    "not True"
   ]
  },
  {
   "cell_type": "code",
   "execution_count": null,
   "id": "e7abd037-8450-4b12-b214-218db9125d99",
   "metadata": {},
   "outputs": [],
   "source": []
  }
 ],
 "metadata": {
  "kernelspec": {
   "display_name": "Python 3 (ipykernel)",
   "language": "python",
   "name": "python3"
  },
  "language_info": {
   "codemirror_mode": {
    "name": "ipython",
    "version": 3
   },
   "file_extension": ".py",
   "mimetype": "text/x-python",
   "name": "python",
   "nbconvert_exporter": "python",
   "pygments_lexer": "ipython3",
   "version": "3.11.7"
  }
 },
 "nbformat": 4,
 "nbformat_minor": 5
}
